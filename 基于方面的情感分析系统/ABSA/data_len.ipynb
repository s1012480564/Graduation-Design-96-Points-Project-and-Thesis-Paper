{
 "cells": [
  {
   "cell_type": "code",
   "execution_count": 1,
   "metadata": {
    "collapsed": true
   },
   "outputs": [],
   "source": [
    "text = ''\n",
    "fin = open('./datasets/semeval14/Restaurants_Train.xml.seg', 'r', encoding='utf-8', newline='\\n', errors='ignore')\n",
    "num_rest=len_rest_l=len_rest_r=len_rest_asp=0\n",
    "len_rest_l_min=len_rest_r_min=len_rest_asp_min=len_rest_min=0x3f3f3f3f\n",
    "len_rest_l_max=len_rest_r_max=len_rest_asp_max=len_rest_max=0\n",
    "lines = fin.readlines()\n",
    "fin.close()\n",
    "for i in range(0, len(lines), 3):\n",
    "    text_left, _, text_right = [s.lower().strip() for s in lines[i].partition(\"$T$\")]\n",
    "    aspect = lines[i + 1].lower().strip()\n",
    "    text_raw = text_left + \" \" + aspect + \" \" + text_right\n",
    "    text += text_raw + \" \"\n",
    "\n",
    "    num_rest+=1\n",
    "    len_rest_l += len(text_left.split(' '))\n",
    "    len_rest_r += len(text_right.split(' '))\n",
    "    len_rest_asp += len(aspect.split(' '))\n",
    "    len_rest_l_min = min(len_rest_l_min, len(text_left.split(' ')))\n",
    "    len_rest_r_min = min(len_rest_r_min, len(text_right.split(' ')))\n",
    "    len_rest_asp_min = min(len_rest_asp_min, len(aspect.split(' ')))\n",
    "    len_rest_l_max = max(len_rest_l_max, len(text_left.split(' ')))\n",
    "    len_rest_r_max = max(len_rest_r_max, len(text_right.split(' ')))\n",
    "    len_rest_asp_max = max(len_rest_asp_max, len(aspect.split(' ')))\n",
    "    len_rest_min = min(len_rest_min, len(text_raw.split(' ')))\n",
    "    len_rest_max = max(len_rest_max, len(text_raw.split(' ')))\n",
    "\n",
    "fin = open('./datasets/semeval14/Restaurants_Test_Gold.xml.seg', 'r', encoding='utf-8', newline='\\n', errors='ignore')\n",
    "lines = fin.readlines()\n",
    "fin.close()\n",
    "for i in range(0, len(lines), 3):\n",
    "    text_left, _, text_right = [s.lower().strip() for s in lines[i].partition(\"$T$\")]\n",
    "    aspect = lines[i + 1].lower().strip()\n",
    "    text_raw = text_left + \" \" + aspect + \" \" + text_right\n",
    "    text += text_raw + \" \"\n",
    "\n",
    "    num_rest+=1\n",
    "    len_rest_l += len(text_left.split(' '))\n",
    "    len_rest_r += len(text_right.split(' '))\n",
    "    len_rest_asp += len(aspect.split(' '))\n",
    "    len_rest_l_min = min(len_rest_l_min, len(text_left.split(' ')))\n",
    "    len_rest_r_min = min(len_rest_r_min, len(text_right.split(' ')))\n",
    "    len_rest_asp_min = min(len_rest_asp_min, len(aspect.split(' ')))\n",
    "    len_rest_l_max = max(len_rest_l_max, len(text_left.split(' ')))\n",
    "    len_rest_r_max = max(len_rest_r_max, len(text_right.split(' ')))\n",
    "    len_rest_asp_max = max(len_rest_asp_max, len(aspect.split(' ')))\n",
    "    len_rest_min = min(len_rest_min, len(text_raw.split(' ')))\n",
    "    len_rest_max = max(len_rest_max, len(text_raw.split(' ')))\n",
    "\n",
    "len_rest_all=len(text.split(' '))"
   ]
  },
  {
   "cell_type": "code",
   "execution_count": 2,
   "outputs": [],
   "source": [
    "text = ''\n",
    "fin = open('./datasets/semeval14/Laptops_Train.xml.seg', 'r', encoding='utf-8', newline='\\n', errors='ignore')\n",
    "num_lap=len_lap_l=len_lap_r=len_lap_asp=0\n",
    "len_lap_l_min=len_lap_r_min=len_lap_asp_min=len_lap_min=0x3f3f3f3f\n",
    "len_lap_l_max=len_lap_r_max=len_lap_asp_max=len_lap_max=0\n",
    "lines = fin.readlines()\n",
    "fin.close()\n",
    "for i in range(0, len(lines), 3):\n",
    "    text_left, _, text_right = [s.lower().strip() for s in lines[i].partition(\"$T$\")]\n",
    "    aspect = lines[i + 1].lower().strip()\n",
    "    text_raw = text_left + \" \" + aspect + \" \" + text_right\n",
    "    text += text_raw + \" \"\n",
    "\n",
    "    num_lap+=1\n",
    "    len_lap_l += len(text_left.split(' '))\n",
    "    len_lap_r += len(text_right.split(' '))\n",
    "    len_lap_asp += len(aspect.split(' '))\n",
    "    len_lap_l_min = min(len_lap_l_min, len(text_left.split(' ')))\n",
    "    len_lap_r_min = min(len_lap_r_min, len(text_right.split(' ')))\n",
    "    len_lap_asp_min = min(len_lap_asp_min, len(aspect.split(' ')))\n",
    "    len_lap_l_max = max(len_lap_l_max, len(text_left.split(' ')))\n",
    "    len_lap_r_max = max(len_lap_r_max, len(text_right.split(' ')))\n",
    "    len_lap_asp_max = max(len_lap_asp_max, len(aspect.split(' ')))\n",
    "    len_lap_min = min(len_lap_min, len(text_raw.split(' ')))\n",
    "    len_lap_max = max(len_lap_max, len(text_raw.split(' ')))\n",
    "\n",
    "fin = open('./datasets/semeval14/Laptops_Test_Gold.xml.seg', 'r', encoding='utf-8', newline='\\n', errors='ignore')\n",
    "lines = fin.readlines()\n",
    "fin.close()\n",
    "for i in range(0, len(lines), 3):\n",
    "    text_left, _, text_right = [s.lower().strip() for s in lines[i].partition(\"$T$\")]\n",
    "    aspect = lines[i + 1].lower().strip()\n",
    "    text_raw = text_left + \" \" + aspect + \" \" + text_right\n",
    "    text += text_raw + \" \"\n",
    "\n",
    "    num_lap+=1\n",
    "    len_lap_l += len(text_left.split(' '))\n",
    "    len_lap_r += len(text_right.split(' '))\n",
    "    len_lap_asp += len(aspect.split(' '))\n",
    "    len_lap_l_min = min(len_lap_l_min, len(text_left.split(' ')))\n",
    "    len_lap_r_min = min(len_lap_r_min, len(text_right.split(' ')))\n",
    "    len_lap_asp_min = min(len_lap_asp_min, len(aspect.split(' ')))\n",
    "    len_lap_l_max = max(len_lap_l_max, len(text_left.split(' ')))\n",
    "    len_lap_r_max = max(len_lap_r_max, len(text_right.split(' ')))\n",
    "    len_lap_asp_max = max(len_lap_asp_max, len(aspect.split(' ')))\n",
    "    len_lap_min = min(len_lap_min, len(text_raw.split(' ')))\n",
    "    len_lap_max = max(len_lap_max, len(text_raw.split(' ')))\n",
    "\n",
    "len_lap_all=len(text.split(' '))"
   ],
   "metadata": {
    "collapsed": false,
    "pycharm": {
     "name": "#%%\n"
    }
   }
  },
  {
   "cell_type": "code",
   "execution_count": 3,
   "outputs": [],
   "source": [
    "text = ''\n",
    "fin = open('datasets/acl-14-short-data/train.raw', 'r', encoding='utf-8', newline='\\n', errors='ignore')\n",
    "num_t=len_t_l=len_t_r=len_t_asp=0\n",
    "len_t_l_min=len_t_r_min=len_t_asp_min=len_t_min=0x3f3f3f3f\n",
    "len_t_l_max=len_t_r_max=len_t_asp_max=len_t_max=0\n",
    "lines = fin.readlines()\n",
    "fin.close()\n",
    "for i in range(0, len(lines), 3):\n",
    "    text_left, _, text_right = [s.lower().strip() for s in lines[i].partition(\"$T$\")]\n",
    "    aspect = lines[i + 1].lower().strip()\n",
    "    text_raw = text_left + \" \" + aspect + \" \" + text_right\n",
    "    text += text_raw + \" \"\n",
    "\n",
    "    num_t+=1\n",
    "    len_t_l += len(text_left.split(' '))\n",
    "    len_t_r += len(text_right.split(' '))\n",
    "    len_t_asp += len(aspect.split(' '))\n",
    "    len_t_l_min = min(len_t_l_min, len(text_left.split(' ')))\n",
    "    len_t_r_min = min(len_t_r_min, len(text_right.split(' ')))\n",
    "    len_t_asp_min = min(len_t_asp_min, len(aspect.split(' ')))\n",
    "    len_t_l_max = max(len_t_l_max, len(text_left.split(' ')))\n",
    "    len_t_r_max = max(len_t_r_max, len(text_right.split(' ')))\n",
    "    len_t_asp_max = max(len_t_asp_max, len(aspect.split(' ')))\n",
    "    len_t_min = min(len_t_min, len(text_raw.split(' ')))\n",
    "    len_t_max = max(len_t_max, len(text_raw.split(' ')))\n",
    "\n",
    "fin = open('datasets/acl-14-short-data/test.raw', 'r', encoding='utf-8', newline='\\n', errors='ignore')\n",
    "lines = fin.readlines()\n",
    "fin.close()\n",
    "for i in range(0, len(lines), 3):\n",
    "    text_left, _, text_right = [s.lower().strip() for s in lines[i].partition(\"$T$\")]\n",
    "    aspect = lines[i + 1].lower().strip()\n",
    "    text_raw = text_left + \" \" + aspect + \" \" + text_right\n",
    "    text += text_raw + \" \"\n",
    "\n",
    "    num_t+=1\n",
    "    len_t_l += len(text_left.split(' '))\n",
    "    len_t_r += len(text_right.split(' '))\n",
    "    len_t_asp += len(aspect.split(' '))\n",
    "    len_t_l_min = min(len_t_l_min, len(text_left.split(' ')))\n",
    "    len_t_r_min = min(len_t_r_min, len(text_right.split(' ')))\n",
    "    len_t_asp_min = min(len_t_asp_min, len(aspect.split(' ')))\n",
    "    len_t_l_max = max(len_t_l_max, len(text_left.split(' ')))\n",
    "    len_t_r_max = max(len_t_r_max, len(text_right.split(' ')))\n",
    "    len_t_asp_max = max(len_t_asp_max, len(aspect.split(' ')))\n",
    "    len_t_min = min(len_t_min, len(text_raw.split(' ')))\n",
    "    len_t_max = max(len_t_max, len(text_raw.split(' ')))\n",
    "\n",
    "len_t_all=len(text.split(' '))"
   ],
   "metadata": {
    "collapsed": false,
    "pycharm": {
     "name": "#%%\n"
    }
   }
  },
  {
   "cell_type": "code",
   "execution_count": 4,
   "outputs": [],
   "source": [
    "num_all=num_rest+num_lap+num_t\n",
    "len_all=len_rest_all+len_lap_all+len_t_all\n",
    "len_l_all=len_rest_l+len_lap_l+len_t_l\n",
    "len_r_all=len_rest_r+len_lap_r+len_t_r\n",
    "len_asp_all=len_rest_asp+len_lap_asp+len_t_asp\n",
    "len_l_min=min(len_rest_l_min,len_lap_l_min,len_t_l_min)\n",
    "len_r_min=min(len_rest_r_min,len_lap_r_min,len_t_r_min)\n",
    "len_asp_min=min(len_rest_asp_min,len_lap_asp_min,len_t_asp_min)\n",
    "len_l_max=max(len_rest_l_max,len_lap_l_max,len_t_l_max)\n",
    "len_r_max=max(len_rest_r_max,len_lap_r_max,len_t_r_max)\n",
    "len_asp_max=max(len_rest_asp_max,len_lap_asp_max,len_t_asp_max)\n",
    "len_min=min(len_rest_min,len_lap_min,len_t_min)\n",
    "len_max=max(len_rest_max,len_lap_max,len_t_max)"
   ],
   "metadata": {
    "collapsed": false,
    "pycharm": {
     "name": "#%%\n"
    }
   }
  },
  {
   "cell_type": "code",
   "execution_count": 5,
   "outputs": [
    {
     "data": {
      "text/plain": "(4728, 2966, 6940, 14634)"
     },
     "execution_count": 5,
     "metadata": {},
     "output_type": "execute_result"
    }
   ],
   "source": [
    "num_rest,num_lap,num_t,num_all"
   ],
   "metadata": {
    "collapsed": false,
    "pycharm": {
     "name": "#%%\n"
    }
   }
  },
  {
   "cell_type": "code",
   "execution_count": 6,
   "outputs": [
    {
     "data": {
      "text/plain": "(9.097927241962775, 10.082265677680377, 7.80806916426513, 8.685731857318574)"
     },
     "execution_count": 6,
     "metadata": {},
     "output_type": "execute_result"
    }
   ],
   "source": [
    "len_rest_l/num_rest,len_lap_l/num_lap,len_t_l/num_t,len_l_all/num_all"
   ],
   "metadata": {
    "collapsed": false,
    "pycharm": {
     "name": "#%%\n"
    }
   }
  },
  {
   "cell_type": "code",
   "execution_count": 7,
   "outputs": [
    {
     "data": {
      "text/plain": "(9.342216582064298, 9.708698583951449, 11.260518731988473, 10.32622659559929)"
     },
     "execution_count": 7,
     "metadata": {},
     "output_type": "execute_result"
    }
   ],
   "source": [
    "len_rest_r/num_rest,len_lap_r/num_lap,len_t_r/num_t,len_r_all/num_all"
   ],
   "metadata": {
    "collapsed": false,
    "pycharm": {
     "name": "#%%\n"
    }
   }
  },
  {
   "cell_type": "code",
   "execution_count": 8,
   "outputs": [
    {
     "data": {
      "text/plain": "(1.4022842639593909,\n 1.5131490222521915,\n 1.7011527377521614,\n 1.5664889982233157)"
     },
     "execution_count": 8,
     "metadata": {},
     "output_type": "execute_result"
    }
   ],
   "source": [
    "len_rest_asp/num_rest,len_lap_asp/num_lap,len_t_asp/num_t,len_asp_all/num_all"
   ],
   "metadata": {
    "collapsed": false,
    "pycharm": {
     "name": "#%%\n"
    }
   }
  },
  {
   "cell_type": "code",
   "execution_count": 9,
   "outputs": [
    {
     "data": {
      "text/plain": "(1, 1, 1, 1)"
     },
     "execution_count": 9,
     "metadata": {},
     "output_type": "execute_result"
    }
   ],
   "source": [
    "len_rest_l_min,len_lap_l_min,len_t_l_min,len_l_min"
   ],
   "metadata": {
    "collapsed": false,
    "pycharm": {
     "name": "#%%\n"
    }
   }
  },
  {
   "cell_type": "code",
   "execution_count": 10,
   "outputs": [
    {
     "data": {
      "text/plain": "(70, 70, 37, 70)"
     },
     "execution_count": 10,
     "metadata": {},
     "output_type": "execute_result"
    }
   ],
   "source": [
    "len_rest_l_max,len_lap_l_max,len_t_l_max,len_l_max"
   ],
   "metadata": {
    "collapsed": false,
    "pycharm": {
     "name": "#%%\n"
    }
   }
  },
  {
   "cell_type": "code",
   "execution_count": 11,
   "outputs": [
    {
     "data": {
      "text/plain": "(1, 1, 1, 1)"
     },
     "execution_count": 11,
     "metadata": {},
     "output_type": "execute_result"
    }
   ],
   "source": [
    "len_rest_r_min,len_lap_r_min,len_t_r_min,len_r_min"
   ],
   "metadata": {
    "collapsed": false,
    "pycharm": {
     "name": "#%%\n"
    }
   }
  },
  {
   "cell_type": "code",
   "execution_count": 12,
   "outputs": [
    {
     "data": {
      "text/plain": "(71, 75, 38, 75)"
     },
     "execution_count": 12,
     "metadata": {},
     "output_type": "execute_result"
    }
   ],
   "source": [
    "len_rest_r_max,len_lap_r_max,len_t_r_max,len_r_max"
   ],
   "metadata": {
    "collapsed": false,
    "pycharm": {
     "name": "#%%\n"
    }
   }
  },
  {
   "cell_type": "code",
   "execution_count": 13,
   "outputs": [
    {
     "data": {
      "text/plain": "(1, 1, 1, 1)"
     },
     "execution_count": 13,
     "metadata": {},
     "output_type": "execute_result"
    }
   ],
   "source": [
    "len_rest_asp_min,len_lap_asp_min,len_t_asp_min,len_asp_min"
   ],
   "metadata": {
    "collapsed": false,
    "pycharm": {
     "name": "#%%\n"
    }
   }
  },
  {
   "cell_type": "code",
   "execution_count": 14,
   "outputs": [
    {
     "data": {
      "text/plain": "(19, 7, 3, 19)"
     },
     "execution_count": 14,
     "metadata": {},
     "output_type": "execute_result"
    }
   ],
   "source": [
    "len_rest_asp_max,len_lap_asp_max,len_t_asp_max,len_asp_max"
   ],
   "metadata": {
    "collapsed": false,
    "pycharm": {
     "name": "#%%\n"
    }
   }
  },
  {
   "cell_type": "code",
   "execution_count": 15,
   "outputs": [
    {
     "data": {
      "text/plain": "(3, 3, 3, 3)"
     },
     "execution_count": 15,
     "metadata": {},
     "output_type": "execute_result"
    }
   ],
   "source": [
    "len_rest_min,len_lap_min,len_t_min,len_min"
   ],
   "metadata": {
    "collapsed": false,
    "pycharm": {
     "name": "#%%\n"
    }
   }
  },
  {
   "cell_type": "code",
   "execution_count": 16,
   "outputs": [
    {
     "data": {
      "text/plain": "(79, 83, 45, 83)"
     },
     "execution_count": 16,
     "metadata": {},
     "output_type": "execute_result"
    }
   ],
   "source": [
    "len_rest_max,len_lap_max,len_t_max,len_max"
   ],
   "metadata": {
    "collapsed": false,
    "pycharm": {
     "name": "#%%\n"
    }
   }
  },
  {
   "cell_type": "code",
   "execution_count": 16,
   "outputs": [],
   "source": [],
   "metadata": {
    "collapsed": false,
    "pycharm": {
     "name": "#%%\n"
    }
   }
  }
 ],
 "metadata": {
  "kernelspec": {
   "display_name": "Python 3",
   "language": "python",
   "name": "python3"
  },
  "language_info": {
   "codemirror_mode": {
    "name": "ipython",
    "version": 2
   },
   "file_extension": ".py",
   "mimetype": "text/x-python",
   "name": "python",
   "nbconvert_exporter": "python",
   "pygments_lexer": "ipython2",
   "version": "2.7.6"
  }
 },
 "nbformat": 4,
 "nbformat_minor": 0
}