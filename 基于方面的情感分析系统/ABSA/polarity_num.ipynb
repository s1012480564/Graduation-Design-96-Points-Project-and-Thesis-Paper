{
 "cells": [
  {
   "cell_type": "code",
   "execution_count": 43,
   "metadata": {
    "collapsed": true
   },
   "outputs": [],
   "source": [
    "text = ''\n",
    "fin = open('./datasets/semeval14/Restaurants_Train.xml.seg', 'r', encoding='utf-8', newline='\\n', errors='ignore')\n",
    "pos_r_train=neg_r_train=neu_r_train=0\n",
    "pos_r_test=neg_r_test=neu_r_test=0\n",
    "lines = fin.readlines()\n",
    "fin.close()\n",
    "for i in range(0, len(lines), 3):\n",
    "    polarity = lines[i+2].strip()\n",
    "    if polarity=='-1':\n",
    "        neg_r_train+=1\n",
    "    elif polarity=='0':\n",
    "        neu_r_train+=1\n",
    "    else:\n",
    "        pos_r_train+=1\n",
    "\n",
    "fin = open('./datasets/semeval14/Restaurants_Test_Gold.xml.seg', 'r', encoding='utf-8', newline='\\n', errors='ignore')\n",
    "lines = fin.readlines()\n",
    "fin.close()\n",
    "for i in range(0, len(lines), 3):\n",
    "    polarity = lines[i+2].strip()\n",
    "    if polarity=='-1':\n",
    "        neg_r_test+=1\n",
    "    elif polarity=='0':\n",
    "        neu_r_test+=1\n",
    "    else:\n",
    "        pos_r_test+=1\n",
    "\n",
    "pos_r=pos_r_train+pos_r_test\n",
    "neg_r=neg_r_train+neg_r_test\n",
    "neu_r=neu_r_train+neu_r_test"
   ]
  },
  {
   "cell_type": "code",
   "execution_count": 44,
   "outputs": [],
   "source": [
    "text = ''\n",
    "fin = open('./datasets/semeval14/Laptops_Train.xml.seg', 'r', encoding='utf-8', newline='\\n', errors='ignore')\n",
    "pos_l_train=neg_l_train=neu_l_train=0\n",
    "pos_l_test=neg_l_test=neu_l_test=0\n",
    "lines = fin.readlines()\n",
    "fin.close()\n",
    "for i in range(0, len(lines), 3):\n",
    "    polarity = lines[i+2].strip()\n",
    "    if polarity=='-1':\n",
    "        neg_l_train+=1\n",
    "    elif polarity=='0':\n",
    "        neu_l_train+=1\n",
    "    else:\n",
    "        pos_l_train+=1\n",
    "\n",
    "fin = open('./datasets/semeval14/Laptops_Test_Gold.xml.seg', 'r', encoding='utf-8', newline='\\n', errors='ignore')\n",
    "lines = fin.readlines()\n",
    "fin.close()\n",
    "for i in range(0, len(lines), 3):\n",
    "    polarity = lines[i+2].strip()\n",
    "    if polarity=='-1':\n",
    "        neg_l_test+=1\n",
    "    elif polarity=='0':\n",
    "        neu_l_test+=1\n",
    "    else:\n",
    "        pos_l_test+=1\n",
    "\n",
    "pos_l=pos_l_train+pos_l_test\n",
    "neg_l=neg_l_train+neg_l_test\n",
    "neu_l=neu_l_train+neu_l_test"
   ],
   "metadata": {
    "collapsed": false,
    "pycharm": {
     "name": "#%%\n"
    }
   }
  },
  {
   "cell_type": "code",
   "execution_count": 45,
   "outputs": [],
   "source": [
    "text = ''\n",
    "fin = open('datasets/acl-14-short-data/train.raw', 'r', encoding='utf-8', newline='\\n', errors='ignore')\n",
    "pos_t_train=neg_t_train=neu_t_train=0\n",
    "pos_t_test=neg_t_test=neu_t_test=0\n",
    "lines = fin.readlines()\n",
    "fin.close()\n",
    "for i in range(0, len(lines), 3):\n",
    "    polarity = lines[i+2].strip()\n",
    "    if polarity=='-1':\n",
    "        neg_t_train+=1\n",
    "    elif polarity=='0':\n",
    "        neu_t_train+=1\n",
    "    else:\n",
    "        pos_t_train+=1\n",
    "\n",
    "fin = open('datasets/acl-14-short-data/test.raw', 'r', encoding='utf-8', newline='\\n', errors='ignore')\n",
    "lines = fin.readlines()\n",
    "fin.close()\n",
    "for i in range(0, len(lines), 3):\n",
    "    polarity = lines[i+2].strip()\n",
    "    if polarity=='-1':\n",
    "        neg_t_test+=1\n",
    "    elif polarity=='0':\n",
    "        neu_t_test+=1\n",
    "    else:\n",
    "        pos_t_test+=1\n",
    "\n",
    "pos_t=pos_t_train+pos_t_test\n",
    "neg_t=neg_t_train+neg_t_test\n",
    "neu_t=neu_t_train+neu_t_test"
   ],
   "metadata": {
    "collapsed": false,
    "pycharm": {
     "name": "#%%\n"
    }
   }
  },
  {
   "cell_type": "code",
   "execution_count": 46,
   "outputs": [
    {
     "data": {
      "text/plain": "(2164, 637, 807)"
     },
     "execution_count": 46,
     "metadata": {},
     "output_type": "execute_result"
    }
   ],
   "source": [
    "pos_r_train,neu_r_train,neg_r_train"
   ],
   "metadata": {
    "collapsed": false,
    "pycharm": {
     "name": "#%%\n"
    }
   }
  },
  {
   "cell_type": "code",
   "execution_count": 47,
   "outputs": [
    {
     "data": {
      "text/plain": "(728, 196, 196)"
     },
     "execution_count": 47,
     "metadata": {},
     "output_type": "execute_result"
    }
   ],
   "source": [
    "pos_r_test,neu_r_test,neg_r_test"
   ],
   "metadata": {
    "collapsed": false,
    "pycharm": {
     "name": "#%%\n"
    }
   }
  },
  {
   "cell_type": "code",
   "execution_count": 48,
   "outputs": [
    {
     "data": {
      "text/plain": "(2892, 833, 1003)"
     },
     "execution_count": 48,
     "metadata": {},
     "output_type": "execute_result"
    }
   ],
   "source": [
    "pos_r,neu_r,neg_r"
   ],
   "metadata": {
    "collapsed": false,
    "pycharm": {
     "name": "#%%\n"
    }
   }
  },
  {
   "cell_type": "code",
   "execution_count": 49,
   "outputs": [
    {
     "data": {
      "text/plain": "(994, 464, 870)"
     },
     "execution_count": 49,
     "metadata": {},
     "output_type": "execute_result"
    }
   ],
   "source": [
    "pos_l_train,neu_l_train,neg_l_train"
   ],
   "metadata": {
    "collapsed": false,
    "pycharm": {
     "name": "#%%\n"
    }
   }
  },
  {
   "cell_type": "code",
   "execution_count": 50,
   "outputs": [
    {
     "data": {
      "text/plain": "(341, 169, 128)"
     },
     "execution_count": 50,
     "metadata": {},
     "output_type": "execute_result"
    }
   ],
   "source": [
    "pos_l_test,neu_l_test,neg_l_test"
   ],
   "metadata": {
    "collapsed": false,
    "pycharm": {
     "name": "#%%\n"
    }
   }
  },
  {
   "cell_type": "code",
   "execution_count": 51,
   "outputs": [
    {
     "data": {
      "text/plain": "(1335, 633, 998)"
     },
     "execution_count": 51,
     "metadata": {},
     "output_type": "execute_result"
    }
   ],
   "source": [
    "pos_l,neu_l,neg_l"
   ],
   "metadata": {
    "collapsed": false,
    "pycharm": {
     "name": "#%%\n"
    }
   }
  },
  {
   "cell_type": "code",
   "execution_count": 52,
   "outputs": [
    {
     "data": {
      "text/plain": "(1561, 3127, 1560)"
     },
     "execution_count": 52,
     "metadata": {},
     "output_type": "execute_result"
    }
   ],
   "source": [
    "pos_t_train,neu_t_train,neg_t_train"
   ],
   "metadata": {
    "collapsed": false,
    "pycharm": {
     "name": "#%%\n"
    }
   }
  },
  {
   "cell_type": "code",
   "execution_count": 53,
   "outputs": [
    {
     "data": {
      "text/plain": "(173, 346, 173)"
     },
     "execution_count": 53,
     "metadata": {},
     "output_type": "execute_result"
    }
   ],
   "source": [
    "pos_t_test,neu_t_test,neg_t_test"
   ],
   "metadata": {
    "collapsed": false,
    "pycharm": {
     "name": "#%%\n"
    }
   }
  },
  {
   "cell_type": "code",
   "execution_count": 54,
   "outputs": [
    {
     "data": {
      "text/plain": "(1734, 3473, 1733)"
     },
     "execution_count": 54,
     "metadata": {},
     "output_type": "execute_result"
    }
   ],
   "source": [
    "pos_t,neu_t,neg_t"
   ],
   "metadata": {
    "collapsed": false,
    "pycharm": {
     "name": "#%%\n"
    }
   }
  },
  {
   "cell_type": "code",
   "execution_count": 55,
   "outputs": [
    {
     "data": {
      "text/plain": "(3608, 1120)"
     },
     "execution_count": 55,
     "metadata": {},
     "output_type": "execute_result"
    }
   ],
   "source": [
    "pos_r_train+neu_r_train+neg_r_train,pos_r_test+neu_r_test+neg_r_test"
   ],
   "metadata": {
    "collapsed": false,
    "pycharm": {
     "name": "#%%\n"
    }
   }
  },
  {
   "cell_type": "code",
   "execution_count": 56,
   "outputs": [
    {
     "data": {
      "text/plain": "(2328, 638)"
     },
     "execution_count": 56,
     "metadata": {},
     "output_type": "execute_result"
    }
   ],
   "source": [
    "pos_l_train+neu_l_train+neg_l_train,pos_l_test+neu_l_test+neg_l_test"
   ],
   "metadata": {
    "collapsed": false,
    "pycharm": {
     "name": "#%%\n"
    }
   }
  },
  {
   "cell_type": "code",
   "execution_count": 57,
   "outputs": [
    {
     "data": {
      "text/plain": "(6248, 692)"
     },
     "execution_count": 57,
     "metadata": {},
     "output_type": "execute_result"
    }
   ],
   "source": [
    "pos_t_train+neu_t_train+neg_t_train,pos_t_test+neu_t_test+neg_t_test"
   ],
   "metadata": {
    "collapsed": false,
    "pycharm": {
     "name": "#%%\n"
    }
   }
  },
  {
   "cell_type": "code",
   "execution_count": null,
   "outputs": [],
   "source": [],
   "metadata": {
    "collapsed": false,
    "pycharm": {
     "name": "#%%\n"
    }
   }
  }
 ],
 "metadata": {
  "kernelspec": {
   "display_name": "Python 3",
   "language": "python",
   "name": "python3"
  },
  "language_info": {
   "codemirror_mode": {
    "name": "ipython",
    "version": 2
   },
   "file_extension": ".py",
   "mimetype": "text/x-python",
   "name": "python",
   "nbconvert_exporter": "python",
   "pygments_lexer": "ipython2",
   "version": "2.7.6"
  }
 },
 "nbformat": 4,
 "nbformat_minor": 0
}